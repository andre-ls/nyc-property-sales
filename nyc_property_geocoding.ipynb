{
 "cells": [
  {
   "cell_type": "markdown",
   "metadata": {},
   "source": [
    "# New York City Property Sales Analysis - Data Preparation"
   ]
  },
  {
   "cell_type": "markdown",
   "metadata": {},
   "source": [
    "On this notebook, all the preprocess required on the original dataset is proposed, including the geocoding step, where the information about the location of the properties is converted to geographical coordinates to be used later on map visualizations. \n",
    "\n",
    "On the end of this notebook, two datasets are created and exported:\n",
    "* The first one will be used on a Exploratory Data Analysis\n",
    "* And the last one is proposed to be used on a Streamlit App Development."
   ]
  },
  {
   "cell_type": "code",
   "execution_count": 1,
   "metadata": {},
   "outputs": [],
   "source": [
    "import numpy as np \n",
    "from datetime import datetime\n",
    "import pandas as pd \n",
    "import geocoder"
   ]
  },
  {
   "cell_type": "markdown",
   "metadata": {},
   "source": [
    "## Read Data"
   ]
  },
  {
   "cell_type": "markdown",
   "metadata": {},
   "source": [
    "First off, the original data is readed."
   ]
  },
  {
   "cell_type": "code",
   "execution_count": 2,
   "metadata": {},
   "outputs": [],
   "source": [
    "data = pd.read_csv('nyc-rolling-sales.csv')"
   ]
  },
  {
   "cell_type": "code",
   "execution_count": 3,
   "metadata": {},
   "outputs": [
    {
     "data": {
      "text/html": [
       "<div>\n",
       "<style scoped>\n",
       "    .dataframe tbody tr th:only-of-type {\n",
       "        vertical-align: middle;\n",
       "    }\n",
       "\n",
       "    .dataframe tbody tr th {\n",
       "        vertical-align: top;\n",
       "    }\n",
       "\n",
       "    .dataframe thead th {\n",
       "        text-align: right;\n",
       "    }\n",
       "</style>\n",
       "<table border=\"1\" class=\"dataframe\">\n",
       "  <thead>\n",
       "    <tr style=\"text-align: right;\">\n",
       "      <th></th>\n",
       "      <th>Unnamed: 0</th>\n",
       "      <th>BOROUGH</th>\n",
       "      <th>NEIGHBORHOOD</th>\n",
       "      <th>BUILDING CLASS CATEGORY</th>\n",
       "      <th>TAX CLASS AT PRESENT</th>\n",
       "      <th>BLOCK</th>\n",
       "      <th>LOT</th>\n",
       "      <th>EASE-MENT</th>\n",
       "      <th>BUILDING CLASS AT PRESENT</th>\n",
       "      <th>ADDRESS</th>\n",
       "      <th>...</th>\n",
       "      <th>RESIDENTIAL UNITS</th>\n",
       "      <th>COMMERCIAL UNITS</th>\n",
       "      <th>TOTAL UNITS</th>\n",
       "      <th>LAND SQUARE FEET</th>\n",
       "      <th>GROSS SQUARE FEET</th>\n",
       "      <th>YEAR BUILT</th>\n",
       "      <th>TAX CLASS AT TIME OF SALE</th>\n",
       "      <th>BUILDING CLASS AT TIME OF SALE</th>\n",
       "      <th>SALE PRICE</th>\n",
       "      <th>SALE DATE</th>\n",
       "    </tr>\n",
       "  </thead>\n",
       "  <tbody>\n",
       "    <tr>\n",
       "      <th>0</th>\n",
       "      <td>4</td>\n",
       "      <td>1</td>\n",
       "      <td>ALPHABET CITY</td>\n",
       "      <td>07 RENTALS - WALKUP APARTMENTS</td>\n",
       "      <td>2A</td>\n",
       "      <td>392</td>\n",
       "      <td>6</td>\n",
       "      <td></td>\n",
       "      <td>C2</td>\n",
       "      <td>153 AVENUE B</td>\n",
       "      <td>...</td>\n",
       "      <td>5</td>\n",
       "      <td>0</td>\n",
       "      <td>5</td>\n",
       "      <td>1633</td>\n",
       "      <td>6440</td>\n",
       "      <td>1900</td>\n",
       "      <td>2</td>\n",
       "      <td>C2</td>\n",
       "      <td>6625000</td>\n",
       "      <td>2017-07-19 00:00:00</td>\n",
       "    </tr>\n",
       "    <tr>\n",
       "      <th>1</th>\n",
       "      <td>5</td>\n",
       "      <td>1</td>\n",
       "      <td>ALPHABET CITY</td>\n",
       "      <td>07 RENTALS - WALKUP APARTMENTS</td>\n",
       "      <td>2</td>\n",
       "      <td>399</td>\n",
       "      <td>26</td>\n",
       "      <td></td>\n",
       "      <td>C7</td>\n",
       "      <td>234 EAST 4TH   STREET</td>\n",
       "      <td>...</td>\n",
       "      <td>28</td>\n",
       "      <td>3</td>\n",
       "      <td>31</td>\n",
       "      <td>4616</td>\n",
       "      <td>18690</td>\n",
       "      <td>1900</td>\n",
       "      <td>2</td>\n",
       "      <td>C7</td>\n",
       "      <td>-</td>\n",
       "      <td>2016-12-14 00:00:00</td>\n",
       "    </tr>\n",
       "    <tr>\n",
       "      <th>2</th>\n",
       "      <td>6</td>\n",
       "      <td>1</td>\n",
       "      <td>ALPHABET CITY</td>\n",
       "      <td>07 RENTALS - WALKUP APARTMENTS</td>\n",
       "      <td>2</td>\n",
       "      <td>399</td>\n",
       "      <td>39</td>\n",
       "      <td></td>\n",
       "      <td>C7</td>\n",
       "      <td>197 EAST 3RD   STREET</td>\n",
       "      <td>...</td>\n",
       "      <td>16</td>\n",
       "      <td>1</td>\n",
       "      <td>17</td>\n",
       "      <td>2212</td>\n",
       "      <td>7803</td>\n",
       "      <td>1900</td>\n",
       "      <td>2</td>\n",
       "      <td>C7</td>\n",
       "      <td>-</td>\n",
       "      <td>2016-12-09 00:00:00</td>\n",
       "    </tr>\n",
       "    <tr>\n",
       "      <th>3</th>\n",
       "      <td>7</td>\n",
       "      <td>1</td>\n",
       "      <td>ALPHABET CITY</td>\n",
       "      <td>07 RENTALS - WALKUP APARTMENTS</td>\n",
       "      <td>2B</td>\n",
       "      <td>402</td>\n",
       "      <td>21</td>\n",
       "      <td></td>\n",
       "      <td>C4</td>\n",
       "      <td>154 EAST 7TH STREET</td>\n",
       "      <td>...</td>\n",
       "      <td>10</td>\n",
       "      <td>0</td>\n",
       "      <td>10</td>\n",
       "      <td>2272</td>\n",
       "      <td>6794</td>\n",
       "      <td>1913</td>\n",
       "      <td>2</td>\n",
       "      <td>C4</td>\n",
       "      <td>3936272</td>\n",
       "      <td>2016-09-23 00:00:00</td>\n",
       "    </tr>\n",
       "    <tr>\n",
       "      <th>4</th>\n",
       "      <td>8</td>\n",
       "      <td>1</td>\n",
       "      <td>ALPHABET CITY</td>\n",
       "      <td>07 RENTALS - WALKUP APARTMENTS</td>\n",
       "      <td>2A</td>\n",
       "      <td>404</td>\n",
       "      <td>55</td>\n",
       "      <td></td>\n",
       "      <td>C2</td>\n",
       "      <td>301 EAST 10TH   STREET</td>\n",
       "      <td>...</td>\n",
       "      <td>6</td>\n",
       "      <td>0</td>\n",
       "      <td>6</td>\n",
       "      <td>2369</td>\n",
       "      <td>4615</td>\n",
       "      <td>1900</td>\n",
       "      <td>2</td>\n",
       "      <td>C2</td>\n",
       "      <td>8000000</td>\n",
       "      <td>2016-11-17 00:00:00</td>\n",
       "    </tr>\n",
       "  </tbody>\n",
       "</table>\n",
       "<p>5 rows × 22 columns</p>\n",
       "</div>"
      ],
      "text/plain": [
       "   Unnamed: 0  BOROUGH   NEIGHBORHOOD                      BUILDING CLASS CATEGORY TAX CLASS AT PRESENT  BLOCK  LOT EASE-MENT BUILDING CLASS AT PRESENT                 ADDRESS  ... RESIDENTIAL UNITS  COMMERCIAL UNITS  TOTAL UNITS  LAND SQUARE FEET  GROSS SQUARE FEET YEAR BUILT TAX CLASS AT TIME OF SALE  BUILDING CLASS AT TIME OF SALE  SALE PRICE            SALE DATE\n",
       "0           4        1  ALPHABET CITY  07 RENTALS - WALKUP APARTMENTS                                2A    392    6                                  C2            153 AVENUE B  ...                 5                 0            5              1633               6440       1900                         2                              C2     6625000  2017-07-19 00:00:00\n",
       "1           5        1  ALPHABET CITY  07 RENTALS - WALKUP APARTMENTS                                 2    399   26                                  C7   234 EAST 4TH   STREET  ...                28                 3           31              4616              18690       1900                         2                              C7         -    2016-12-14 00:00:00\n",
       "2           6        1  ALPHABET CITY  07 RENTALS - WALKUP APARTMENTS                                 2    399   39                                  C7   197 EAST 3RD   STREET  ...                16                 1           17              2212               7803       1900                         2                              C7         -    2016-12-09 00:00:00\n",
       "3           7        1  ALPHABET CITY  07 RENTALS - WALKUP APARTMENTS                                2B    402   21                                  C4     154 EAST 7TH STREET  ...                10                 0           10              2272               6794       1913                         2                              C4     3936272  2016-09-23 00:00:00\n",
       "4           8        1  ALPHABET CITY  07 RENTALS - WALKUP APARTMENTS                                2A    404   55                                  C2  301 EAST 10TH   STREET  ...                 6                 0            6              2369               4615       1900                         2                              C2     8000000  2016-11-17 00:00:00\n",
       "\n",
       "[5 rows x 22 columns]"
      ]
     },
     "execution_count": 3,
     "metadata": {},
     "output_type": "execute_result"
    }
   ],
   "source": [
    "data.head()"
   ]
  },
  {
   "cell_type": "markdown",
   "metadata": {},
   "source": [
    "## Geocoding"
   ]
  },
  {
   "cell_type": "markdown",
   "metadata": {},
   "source": [
    "On this section, the geocoding process is proposed. For this, the geocoder library is used to convert the Zip Codes into Geographical Coordinates. It is important to note that the ideal way of doing this step would be to use the entire address field as a query to obtain the coordinates, but that would require the conversion of much more rows and take too much time. So, for simplicity, only the unique values of Zip Code (extracted below) are used on this process, and the results are them passed to the full dataset by a Join Operation."
   ]
  },
  {
   "cell_type": "code",
   "execution_count": 4,
   "metadata": {},
   "outputs": [],
   "source": [
    "zip_codes = data['ZIP CODE'].unique()"
   ]
  },
  {
   "cell_type": "markdown",
   "metadata": {},
   "source": [
    "Below, a iteractive process is proposed to query every row of the Zip Codes used and obtain the coordinates."
   ]
  },
  {
   "cell_type": "code",
   "execution_count": 5,
   "metadata": {},
   "outputs": [],
   "source": [
    "x_coordinates = []\n",
    "y_coordinates = []\n",
    "i = 0\n",
    "for codes in zip_codes:\n",
    "    g = geocoder.osm(str(codes) + ', New York')\n",
    "    if g.ok == True:\n",
    "        x_coordinates.append(g.osm['x'])\n",
    "        y_coordinates.append(g.osm['y'])\n",
    "    else:\n",
    "        x_coordinates.append('Not Found')\n",
    "        y_coordinates.append('Not Found')"
   ]
  },
  {
   "cell_type": "markdown",
   "metadata": {},
   "source": [
    "The resulted coordinates are them combined with the respective Zip Codes on a new dataframe."
   ]
  },
  {
   "cell_type": "code",
   "execution_count": 6,
   "metadata": {},
   "outputs": [
    {
     "data": {
      "text/html": [
       "<div>\n",
       "<style scoped>\n",
       "    .dataframe tbody tr th:only-of-type {\n",
       "        vertical-align: middle;\n",
       "    }\n",
       "\n",
       "    .dataframe tbody tr th {\n",
       "        vertical-align: top;\n",
       "    }\n",
       "\n",
       "    .dataframe thead th {\n",
       "        text-align: right;\n",
       "    }\n",
       "</style>\n",
       "<table border=\"1\" class=\"dataframe\">\n",
       "  <thead>\n",
       "    <tr style=\"text-align: right;\">\n",
       "      <th></th>\n",
       "      <th>Zip Codes</th>\n",
       "      <th>X Coordinate</th>\n",
       "      <th>Y Coordinate</th>\n",
       "    </tr>\n",
       "  </thead>\n",
       "  <tbody>\n",
       "    <tr>\n",
       "      <th>0</th>\n",
       "      <td>10009</td>\n",
       "      <td>-74.006015</td>\n",
       "      <td>40.712728</td>\n",
       "    </tr>\n",
       "    <tr>\n",
       "      <th>1</th>\n",
       "      <td>0</td>\n",
       "      <td>-73.498902</td>\n",
       "      <td>42.671362</td>\n",
       "    </tr>\n",
       "    <tr>\n",
       "      <th>2</th>\n",
       "      <td>10002</td>\n",
       "      <td>-74.006015</td>\n",
       "      <td>40.712728</td>\n",
       "    </tr>\n",
       "    <tr>\n",
       "      <th>3</th>\n",
       "      <td>10011</td>\n",
       "      <td>-74.006015</td>\n",
       "      <td>40.712728</td>\n",
       "    </tr>\n",
       "    <tr>\n",
       "      <th>4</th>\n",
       "      <td>10001</td>\n",
       "      <td>-74.006015</td>\n",
       "      <td>40.712728</td>\n",
       "    </tr>\n",
       "  </tbody>\n",
       "</table>\n",
       "</div>"
      ],
      "text/plain": [
       "   Zip Codes  X Coordinate  Y Coordinate\n",
       "0      10009    -74.006015     40.712728\n",
       "1          0    -73.498902     42.671362\n",
       "2      10002    -74.006015     40.712728\n",
       "3      10011    -74.006015     40.712728\n",
       "4      10001    -74.006015     40.712728"
      ]
     },
     "execution_count": 6,
     "metadata": {},
     "output_type": "execute_result"
    }
   ],
   "source": [
    "geocode_df = pd.DataFrame(list(zip(zip_codes,x_coordinates,y_coordinates)),columns=['Zip Codes','X Coordinate','Y Coordinate'])\n",
    "geocode_df.head()"
   ]
  },
  {
   "cell_type": "markdown",
   "metadata": {},
   "source": [
    "Finally, the resulted dataframe is merged with the original data by a Left Join."
   ]
  },
  {
   "cell_type": "code",
   "execution_count": 7,
   "metadata": {},
   "outputs": [],
   "source": [
    "data = data.merge(geocode_df,how='left',left_on='ZIP CODE',right_on='Zip Codes')"
   ]
  },
  {
   "cell_type": "code",
   "execution_count": 8,
   "metadata": {},
   "outputs": [],
   "source": [
    "data = data.drop('Zip Codes',axis=1)"
   ]
  },
  {
   "cell_type": "code",
   "execution_count": 9,
   "metadata": {},
   "outputs": [],
   "source": [
    "data = data[data['X Coordinate'] != 'Not Found']"
   ]
  },
  {
   "cell_type": "code",
   "execution_count": 10,
   "metadata": {},
   "outputs": [],
   "source": [
    "data['X Coordinate'] = data['X Coordinate'].astype(float)\n",
    "data['Y Coordinate'] = data['Y Coordinate'].astype(float)"
   ]
  },
  {
   "cell_type": "markdown",
   "metadata": {},
   "source": [
    "## Pre-processing"
   ]
  },
  {
   "cell_type": "markdown",
   "metadata": {},
   "source": [
    "On this section, some preparation of the data is proposed, which is important both for the Exploratory Analysis and the Streamlit app. First off, unused columns are removed from the dataset."
   ]
  },
  {
   "cell_type": "code",
   "execution_count": 11,
   "metadata": {},
   "outputs": [],
   "source": [
    "data = data.drop(['Unnamed: 0','BLOCK','LOT','APARTMENT NUMBER'],axis=1)"
   ]
  },
  {
   "cell_type": "markdown",
   "metadata": {},
   "source": [
    "After that, some variables used have their format changed for a better performance."
   ]
  },
  {
   "cell_type": "code",
   "execution_count": 12,
   "metadata": {},
   "outputs": [],
   "source": [
    "data[['SALE PRICE','LAND SQUARE FEET','GROSS SQUARE FEET']] = data[['SALE PRICE','LAND SQUARE FEET','GROSS SQUARE FEET']].replace({' -  ':'0'})\n",
    "data[['SALE PRICE','LAND SQUARE FEET','GROSS SQUARE FEET']] = data[['SALE PRICE','LAND SQUARE FEET','GROSS SQUARE FEET']].astype('float64')"
   ]
  },
  {
   "cell_type": "code",
   "execution_count": 13,
   "metadata": {},
   "outputs": [],
   "source": [
    "data['SALE DATE'] = pd.to_datetime(data['SALE DATE'])"
   ]
  },
  {
   "cell_type": "markdown",
   "metadata": {},
   "source": [
    "In the Sales Price column, some columns appear to be Outliers. To remove any possible invalid data, properties with price greater than $5000000 are removed from the dataset. Also, a great number of Properties have a null Price, which corresponds to transfers of ownerships, as stated by the documentations of the dataset. This data is also removed from the dataset."
   ]
  },
  {
   "cell_type": "code",
   "execution_count": 14,
   "metadata": {},
   "outputs": [],
   "source": [
    "data = data[(data['SALE PRICE'] > 10000) & (data['SALE PRICE'] < 5000000)]"
   ]
  },
  {
   "cell_type": "markdown",
   "metadata": {},
   "source": [
    "Also on the Year Built Column, some strange values are removed."
   ]
  },
  {
   "cell_type": "code",
   "execution_count": 15,
   "metadata": {},
   "outputs": [],
   "source": [
    "data = data[data['YEAR BUILT'] > 0]"
   ]
  },
  {
   "cell_type": "markdown",
   "metadata": {},
   "source": [
    "The Borough column is codified. According to the description of the data provided at Kaggle, the possible values are Manhattan (1), Bronx (2), Brooklyn (3), Queens (4), and Staten Island (5). Let's configure that on data."
   ]
  },
  {
   "cell_type": "code",
   "execution_count": 16,
   "metadata": {},
   "outputs": [],
   "source": [
    "data['BOROUGH'] = data['BOROUGH'].replace({1:'Manhattan', 2:'Bronx', 3:'Brooklyn', 4:'Queens', 5:'Staten Island'})"
   ]
  },
  {
   "cell_type": "markdown",
   "metadata": {},
   "source": [
    "Finally, just for aestethics reason, let's format some columns with the Title Method."
   ]
  },
  {
   "cell_type": "code",
   "execution_count": 17,
   "metadata": {},
   "outputs": [],
   "source": [
    "data['BUILDING CLASS CATEGORY'] = data['BUILDING CLASS CATEGORY'].str.title()\n",
    "data['NEIGHBORHOOD'] = data['NEIGHBORHOOD'].str.title()\n",
    "data['ADDRESS'] = data['ADDRESS'].str.title()"
   ]
  },
  {
   "cell_type": "markdown",
   "metadata": {},
   "source": [
    "The Title Method is also applied to the column names."
   ]
  },
  {
   "cell_type": "code",
   "execution_count": 18,
   "metadata": {},
   "outputs": [],
   "source": [
    "data.columns = data.columns.str.title()"
   ]
  },
  {
   "cell_type": "markdown",
   "metadata": {},
   "source": [
    "## Export Data"
   ]
  },
  {
   "cell_type": "markdown",
   "metadata": {},
   "source": [
    "Finally, on this last section, the resulted data are exported to further use on this project."
   ]
  },
  {
   "cell_type": "markdown",
   "metadata": {},
   "source": [
    "### Notebook Data"
   ]
  },
  {
   "cell_type": "markdown",
   "metadata": {},
   "source": [
    "With no required changes, the resulted dataframe is exported to be used on Exploratory Analysis Notebook."
   ]
  },
  {
   "cell_type": "code",
   "execution_count": 19,
   "metadata": {},
   "outputs": [],
   "source": [
    "data.to_csv('EDA/nyc-notebook.csv')"
   ]
  },
  {
   "cell_type": "markdown",
   "metadata": {},
   "source": [
    "### Streamlit App Data"
   ]
  },
  {
   "cell_type": "markdown",
   "metadata": {},
   "source": [
    "Here, some further processign is made to obtain the data used on the Streamlit App."
   ]
  },
  {
   "cell_type": "code",
   "execution_count": 20,
   "metadata": {},
   "outputs": [
    {
     "data": {
      "text/html": [
       "<div>\n",
       "<style scoped>\n",
       "    .dataframe tbody tr th:only-of-type {\n",
       "        vertical-align: middle;\n",
       "    }\n",
       "\n",
       "    .dataframe tbody tr th {\n",
       "        vertical-align: top;\n",
       "    }\n",
       "\n",
       "    .dataframe thead th {\n",
       "        text-align: right;\n",
       "    }\n",
       "</style>\n",
       "<table border=\"1\" class=\"dataframe\">\n",
       "  <thead>\n",
       "    <tr style=\"text-align: right;\">\n",
       "      <th></th>\n",
       "      <th>Borough</th>\n",
       "      <th>Neighborhood</th>\n",
       "      <th>Building Class Category</th>\n",
       "      <th>Tax Class At Present</th>\n",
       "      <th>Ease-Ment</th>\n",
       "      <th>Building Class At Present</th>\n",
       "      <th>Address</th>\n",
       "      <th>Zip Code</th>\n",
       "      <th>Residential Units</th>\n",
       "      <th>Commercial Units</th>\n",
       "      <th>Total Units</th>\n",
       "      <th>Land Square Feet</th>\n",
       "      <th>Gross Square Feet</th>\n",
       "      <th>Year Built</th>\n",
       "      <th>Tax Class At Time Of Sale</th>\n",
       "      <th>Building Class At Time Of Sale</th>\n",
       "      <th>Sale Price</th>\n",
       "      <th>Sale Date</th>\n",
       "      <th>X Coordinate</th>\n",
       "      <th>Y Coordinate</th>\n",
       "    </tr>\n",
       "  </thead>\n",
       "  <tbody>\n",
       "    <tr>\n",
       "      <th>3</th>\n",
       "      <td>Manhattan</td>\n",
       "      <td>Alphabet City</td>\n",
       "      <td>07 Rentals - Walkup Apartments</td>\n",
       "      <td>2B</td>\n",
       "      <td></td>\n",
       "      <td>C4</td>\n",
       "      <td>154 East 7Th Street</td>\n",
       "      <td>10009</td>\n",
       "      <td>10</td>\n",
       "      <td>0</td>\n",
       "      <td>10</td>\n",
       "      <td>2272.0</td>\n",
       "      <td>6794.0</td>\n",
       "      <td>1913</td>\n",
       "      <td>2</td>\n",
       "      <td>C4</td>\n",
       "      <td>3936272.0</td>\n",
       "      <td>2016-09-23</td>\n",
       "      <td>-74.006015</td>\n",
       "      <td>40.712728</td>\n",
       "    </tr>\n",
       "    <tr>\n",
       "      <th>6</th>\n",
       "      <td>Manhattan</td>\n",
       "      <td>Alphabet City</td>\n",
       "      <td>07 Rentals - Walkup Apartments</td>\n",
       "      <td>2B</td>\n",
       "      <td></td>\n",
       "      <td>C4</td>\n",
       "      <td>210 Avenue B</td>\n",
       "      <td>10009</td>\n",
       "      <td>8</td>\n",
       "      <td>0</td>\n",
       "      <td>8</td>\n",
       "      <td>1750.0</td>\n",
       "      <td>4226.0</td>\n",
       "      <td>1920</td>\n",
       "      <td>2</td>\n",
       "      <td>C4</td>\n",
       "      <td>3192840.0</td>\n",
       "      <td>2016-09-23</td>\n",
       "      <td>-74.006015</td>\n",
       "      <td>40.712728</td>\n",
       "    </tr>\n",
       "    <tr>\n",
       "      <th>13</th>\n",
       "      <td>Manhattan</td>\n",
       "      <td>Alphabet City</td>\n",
       "      <td>09 Coops - Walkup Apartments</td>\n",
       "      <td>2</td>\n",
       "      <td></td>\n",
       "      <td>C6</td>\n",
       "      <td>327 East 3 Street, 1C</td>\n",
       "      <td>10009</td>\n",
       "      <td>0</td>\n",
       "      <td>0</td>\n",
       "      <td>0</td>\n",
       "      <td>0.0</td>\n",
       "      <td>0.0</td>\n",
       "      <td>1920</td>\n",
       "      <td>2</td>\n",
       "      <td>C6</td>\n",
       "      <td>499000.0</td>\n",
       "      <td>2017-03-10</td>\n",
       "      <td>-74.006015</td>\n",
       "      <td>40.712728</td>\n",
       "    </tr>\n",
       "    <tr>\n",
       "      <th>15</th>\n",
       "      <td>Manhattan</td>\n",
       "      <td>Alphabet City</td>\n",
       "      <td>09 Coops - Walkup Apartments</td>\n",
       "      <td>2</td>\n",
       "      <td></td>\n",
       "      <td>C6</td>\n",
       "      <td>327 East 3Rd Street, 5A</td>\n",
       "      <td>10009</td>\n",
       "      <td>0</td>\n",
       "      <td>0</td>\n",
       "      <td>0</td>\n",
       "      <td>0.0</td>\n",
       "      <td>0.0</td>\n",
       "      <td>1920</td>\n",
       "      <td>2</td>\n",
       "      <td>C6</td>\n",
       "      <td>529500.0</td>\n",
       "      <td>2017-06-09</td>\n",
       "      <td>-74.006015</td>\n",
       "      <td>40.712728</td>\n",
       "    </tr>\n",
       "    <tr>\n",
       "      <th>16</th>\n",
       "      <td>Manhattan</td>\n",
       "      <td>Alphabet City</td>\n",
       "      <td>09 Coops - Walkup Apartments</td>\n",
       "      <td>2</td>\n",
       "      <td></td>\n",
       "      <td>C6</td>\n",
       "      <td>327 East 3 Street, 2E</td>\n",
       "      <td>10009</td>\n",
       "      <td>0</td>\n",
       "      <td>0</td>\n",
       "      <td>0</td>\n",
       "      <td>0.0</td>\n",
       "      <td>0.0</td>\n",
       "      <td>1920</td>\n",
       "      <td>2</td>\n",
       "      <td>C6</td>\n",
       "      <td>423000.0</td>\n",
       "      <td>2017-07-14</td>\n",
       "      <td>-74.006015</td>\n",
       "      <td>40.712728</td>\n",
       "    </tr>\n",
       "  </tbody>\n",
       "</table>\n",
       "</div>"
      ],
      "text/plain": [
       "      Borough   Neighborhood                      Building Class Category Tax Class At Present Ease-Ment Building Class At Present                  Address  Zip Code  Residential Units  Commercial Units  Total Units  Land Square Feet  Gross Square Feet  Year Built  Tax Class At Time Of Sale Building Class At Time Of Sale  Sale Price  Sale Date  X Coordinate  Y Coordinate\n",
       "3   Manhattan  Alphabet City  07 Rentals - Walkup Apartments                                2B                                  C4      154 East 7Th Street     10009                 10                 0           10            2272.0             6794.0        1913                          2                             C4   3936272.0 2016-09-23    -74.006015     40.712728\n",
       "6   Manhattan  Alphabet City  07 Rentals - Walkup Apartments                                2B                                  C4             210 Avenue B     10009                  8                 0            8            1750.0             4226.0        1920                          2                             C4   3192840.0 2016-09-23    -74.006015     40.712728\n",
       "13  Manhattan  Alphabet City  09 Coops - Walkup Apartments                                   2                                  C6    327 East 3 Street, 1C     10009                  0                 0            0               0.0                0.0        1920                          2                             C6    499000.0 2017-03-10    -74.006015     40.712728\n",
       "15  Manhattan  Alphabet City  09 Coops - Walkup Apartments                                   2                                  C6  327 East 3Rd Street, 5A     10009                  0                 0            0               0.0                0.0        1920                          2                             C6    529500.0 2017-06-09    -74.006015     40.712728\n",
       "16  Manhattan  Alphabet City  09 Coops - Walkup Apartments                                   2                                  C6    327 East 3 Street, 2E     10009                  0                 0            0               0.0                0.0        1920                          2                             C6    423000.0 2017-07-14    -74.006015     40.712728"
      ]
     },
     "execution_count": 20,
     "metadata": {},
     "output_type": "execute_result"
    }
   ],
   "source": [
    "data.head()"
   ]
  },
  {
   "cell_type": "markdown",
   "metadata": {},
   "source": [
    "Here, the numerical and categorical data are grouped according to Zip Codes. Since the Numerical data is aggregated by the Mean Operation, and the Categorical data is aggregated by the most common category, two differente dataframes are created."
   ]
  },
  {
   "cell_type": "code",
   "execution_count": 21,
   "metadata": {},
   "outputs": [],
   "source": [
    "numerical_app_data = data.groupby('Zip Code').mean()\n",
    "numerical_app_data = numerical_app_data.reset_index()"
   ]
  },
  {
   "cell_type": "code",
   "execution_count": 22,
   "metadata": {},
   "outputs": [],
   "source": [
    "categorical_app_data = data[['Zip Code','Building Class Category','Address','Borough','Neighborhood']].groupby('Zip Code').agg(lambda x: x.value_counts().index[0])\n",
    "categorical_app_data = categorical_app_data.reset_index()"
   ]
  },
  {
   "cell_type": "markdown",
   "metadata": {},
   "source": [
    "The resulted dataframes are them joined together and exported as a csv file."
   ]
  },
  {
   "cell_type": "code",
   "execution_count": 23,
   "metadata": {},
   "outputs": [],
   "source": [
    "app_data = numerical_app_data.merge(categorical_app_data,how='left',on='Zip Code')"
   ]
  },
  {
   "cell_type": "code",
   "execution_count": 24,
   "metadata": {},
   "outputs": [],
   "source": [
    "app_data.to_csv('App/nyc-app.csv')"
   ]
  },
  {
   "cell_type": "code",
   "execution_count": null,
   "metadata": {},
   "outputs": [],
   "source": []
  }
 ],
 "metadata": {
  "interpreter": {
   "hash": "5746bf01dc69d79ed75f1429e8d3401c2cc7f715a0fe7adde7192d0e6ad4e891"
  },
  "kernelspec": {
   "display_name": "Python 3.7.10 64-bit ('base': conda)",
   "name": "python3"
  },
  "language_info": {
   "codemirror_mode": {
    "name": "ipython",
    "version": 3
   },
   "file_extension": ".py",
   "mimetype": "text/x-python",
   "name": "python",
   "nbconvert_exporter": "python",
   "pygments_lexer": "ipython3",
   "version": "3.7.10"
  },
  "orig_nbformat": 2
 },
 "nbformat": 4,
 "nbformat_minor": 2
}
